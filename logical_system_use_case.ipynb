{
 "cells": [
  {
   "cell_type": "code",
   "execution_count": 14,
   "metadata": {},
   "outputs": [],
   "source": [
    "from src.mobj_types.mobj_type import MobjType\n",
    "from src.mobj_types.value_structure import ValueStructure\n",
    "from src.mobjs.variable import Variable\n",
    "from src.scopes.inference_rule import InferenceRule\n",
    "from src.mobjs.mobj import Mobj\n",
    "from src.scopes.scope import Scope\n",
    "from src.scopes.scope_tree import ScopeTree"
   ]
  },
  {
   "cell_type": "code",
   "execution_count": 15,
   "metadata": {},
   "outputs": [],
   "source": [
    "\n",
    "\n",
    "IsProposition = MobjType(\"IsProposition\", ValueStructure.non_defining(1))\n",
    "IsSet = MobjType(\"IsSet\", ValueStructure.non_defining(1))\n",
    "\n",
    "Implication = MobjType(\"Implication\", ValueStructure.non_defining(2))\n",
    "Negation = MobjType(\"Negation\", ValueStructure.non_defining(1))\n",
    "Membership = MobjType(\"Membership\", ValueStructure.non_defining(2))\n",
    "\n",
    "Forall = MobjType(\"Forall\", ValueStructure.defines_first(2))\n",
    "Exists = MobjType(\"Exists\", ValueStructure.defines_first(2))\n",
    "ExistsOne = MobjType(\"ExistsOne\", ValueStructure.defines_first(2))"
   ]
  },
  {
   "cell_type": "code",
   "execution_count": null,
   "metadata": {},
   "outputs": [],
   "source": [
    "class I(InferenceRule):\n",
    "    def __init__(self):\n",
    "        pass\n",
    "        \n",
    "    def types_are_valid(self) -> bool:\n",
    "        return True\n",
    "    \n",
    "    def is_applicable(self, scope: Scope) -> bool:\n",
    "        return True\n",
    "    \n",
    "    def infer(self, scope : Scope):\n",
    "        pass"
   ]
  },
  {
   "cell_type": "code",
   "execution_count": 16,
   "metadata": {},
   "outputs": [],
   "source": [
    "class AddAxiom(InferenceRule):\n",
    "    def __init__(self, index : int):\n",
    "        self.index = index\n",
    "        \n",
    "    def types_are_valid(self) -> bool:\n",
    "        return True\n",
    "    \n",
    "    def infer(self, scope: Scope, *args: Mobj) -> bool:\n",
    "        axiom = scope.tree.get_axiom(self.index)\n",
    "        if axiom is None:\n",
    "            return False\n",
    "        \n",
    "        # Add axiom variables to scope\n",
    "        old_variables = scope._scope_quantifier_variables.copy()\n",
    "        \n",
    "        scope._scope_quantifier_variables.update(axiom.variables)\n",
    "        if scope.add_true_statement(axiom)[0]:\n",
    "            return True\n",
    "        \n",
    "        scope._scope_quantifier_variables = old_variables\n",
    "        return False"
   ]
  },
  {
   "cell_type": "code",
   "execution_count": 27,
   "metadata": {},
   "outputs": [],
   "source": [
    "class AddParentProposition(InferenceRule):\n",
    "    def __init__(self, number_of_generations : int, index : int):\n",
    "        self.number_of_generations = number_of_generations\n",
    "        self.index = index\n",
    "        \n",
    "    def types_are_valid(self) -> bool:\n",
    "        return True\n",
    "\n",
    "    \n",
    "    def infer(self, scope : Scope) -> bool:\n",
    "        # We assume that the father scope is not None and that the index is valid\n",
    "        father_scope = scope.get_father_scope(self.number_of_generations)\n",
    "        \n",
    "        if not father_scope:\n",
    "            return False\n",
    "        \n",
    "        proposition = father_scope.get_true_statement(self.index)\n",
    "        if not proposition:\n",
    "            return False\n",
    "        \n",
    "        return scope.add_true_statement(proposition)[0]\n",
    "        "
   ]
  },
  {
   "cell_type": "code",
   "execution_count": 17,
   "metadata": {},
   "outputs": [],
   "source": [
    "tree = ScopeTree(\n",
    "    [IsProposition, Forall],\n",
    "    {\"AddAxiom\" : AddAxiom},\n",
    ")\n",
    "tree.add_axiom(Forall(Variable(\"A\"), Variable(\"A\")))"
   ]
  }
 ],
 "metadata": {
  "kernelspec": {
   "display_name": "venv",
   "language": "python",
   "name": "python3"
  },
  "language_info": {
   "codemirror_mode": {
    "name": "ipython",
    "version": 3
   },
   "file_extension": ".py",
   "mimetype": "text/x-python",
   "name": "python",
   "nbconvert_exporter": "python",
   "pygments_lexer": "ipython3",
   "version": "3.10.9"
  },
  "orig_nbformat": 4
 },
 "nbformat": 4,
 "nbformat_minor": 2
}
